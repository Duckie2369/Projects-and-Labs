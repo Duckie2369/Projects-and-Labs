{
  "nbformat": 4,
  "nbformat_minor": 0,
  "metadata": {
    "colab": {
      "provenance": []
    },
    "kernelspec": {
      "name": "python3",
      "display_name": "Python 3"
    },
    "language_info": {
      "name": "python"
    }
  },
  "cells": [
    {
      "cell_type": "code",
      "execution_count": null,
      "metadata": {
        "colab": {
          "base_uri": "https://localhost:8080/",
          "height": 560
        },
        "id": "TD9CTINnqx1W",
        "outputId": "064e06eb-8844-4697-a738-84da9c8d3e85"
      },
      "outputs": [
        {
          "output_type": "stream",
          "name": "stdout",
          "text": [
            "Calculation using first way: \n",
            "Iteration       Approximation                 E_a                 E_t\n",
            "        0        1.0000000000        1.0000000000      -19.0855369232\n",
            "        1        4.0000000000        0.7500000000      -79.3421476928\n",
            "        2        8.5000000000        0.5294117647     -169.7270638471\n",
            "        3       13.0000000000        0.3461538462     -260.1119800014\n",
            "        4       16.3750000000        0.2061068702     -327.9006671172\n",
            "\n",
            "\n",
            "Calculation using second way: \n",
            "Iteration       Approximation                 E_a                 E_t\n",
            "        0        1.0000000000        1.0000000000      -19.0855369232\n",
            "        1       -0.5000000000        3.0000000000       11.0427684616\n",
            "        2        0.4000000000        2.2500000000       -7.0342147693\n",
            "        3       -0.5000000000        1.8000000000       11.0427684616\n",
            "        4        0.7272727273        1.6875000000      -13.6076632169\n"
          ]
        },
        {
          "output_type": "execute_result",
          "data": {
            "text/plain": [
              "Text(0.5, 1.0, '\\nCoded by Nguyen Pham Duc Anh')"
            ]
          },
          "metadata": {},
          "execution_count": 3
        },
        {
          "output_type": "display_data",
          "data": {
            "text/plain": [
              "<Figure size 640x480 with 1 Axes>"
            ],
            "image/png": "[encoded data removed]"
          },
          "metadata": {}
        }
      ],
      "source": [
        "import math\n",
        "import numpy as np\n",
        "import matplotlib.pyplot as p\n",
        "\n",
        "\n",
        "real_value = np.exp(-3)\n",
        "l1 = []\n",
        "l2 = []\n",
        "def firstway(x, term):\n",
        "  result = 0\n",
        "  prev = 0\n",
        "  e_t = 0\n",
        "  e_a = 0\n",
        "  print(\"Calculation using first way: \")\n",
        "  print(\"%s%20s%20s%20s\" % (\"Iteration\", \"Approximation\", \"E_a\", \"E_t\"))\n",
        "  for n in range(0, term):\n",
        "    prev = result\n",
        "    result += math.pow(-x, n) / math.factorial(n)\n",
        "    l1.append(result)\n",
        "    e_t = ((real_value - result) / real_value)\n",
        "    e_a = ((result - prev) / result)\n",
        "    print(\"%9d%20.10f%20.10f%20.10f\" % (n, result, e_a, e_t))\n",
        "def secondway(x, term):\n",
        "  result = 0\n",
        "  prev = 0\n",
        "  e_t = 0\n",
        "  e_a = 0\n",
        "  print(\"Calculation using second way: \")\n",
        "  print(\"%s%20s%20s%20s\" % (\"Iteration\", \"Approximation\", \"E_a\", \"E_t\"))\n",
        "  for n in range(0, term):\n",
        "    prev = result\n",
        "    if result != 0:\n",
        "      flip_result = 1/result\n",
        "    else:\n",
        "      flip_result = 0\n",
        "    flip_result += math.pow(x, n) / math.factorial(n)\n",
        "    result = 1/flip_result\n",
        "    l2.append(result)\n",
        "    e_t = ((real_value - result) / real_value)\n",
        "    e_a = ((result - prev) / result)\n",
        "    print(\"%9d%20.10f%20.10f%20.10f\" % (n, result, e_a, e_t))\n",
        "\n",
        "firstway(-3,5)\n",
        "print(\"\\n\")\n",
        "secondway(-3,5)\n",
        "p.subplot(2,1,1)\n",
        "p.plot(l1)\n",
        "p.title(\"\\nCoded by Nguyen Pham Duc Anh\")\n"
      ]
    }
  ]
}